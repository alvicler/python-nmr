{
 "cells": [
  {
   "cell_type": "markdown",
   "id": "potential-yahoo",
   "metadata": {},
   "source": [
    "# Plot 2D Spectra"
   ]
  },
  {
   "cell_type": "code",
   "execution_count": 7,
   "id": "infrared-pressure",
   "metadata": {},
   "outputs": [
    {
     "data": {
      "text/plain": [
       "Text(0, 0.5, '$^{13}C\\\\ ppm$')"
      ]
     },
     "execution_count": 7,
     "metadata": {},
     "output_type": "execute_result"
    }
   ],
   "source": [
    "import matplotlib\n",
    "import numpy as np\n",
    "import matplotlib.cm as cm\n",
    "import matplotlib.pyplot as plt\n",
    "import nmrglue as ng \n",
    "\n",
    "%matplotlib qt5\n",
    "#plt.rcParams[\"figure.figsize\"]=10,10\n",
    "dic, data = ng.bruker.read_pdata('NA0048214682_3620_20221122_01/Bruker/3/pdata/1/') \n",
    "\n",
    "udic = ng.bruker.guess_udic(dic, data)\n",
    "uc1 = ng.fileiobase.uc_from_udic(udic,1) ## Direct dimension\n",
    "uc0 = ng.fileiobase.uc_from_udic(udic,0) ## indirect dimension\n",
    "\n",
    "x0, x1 = uc1.ppm_limits()\n",
    "y0, y1 = uc0.ppm_limits()\n",
    "ppm_scale0 = uc0.ppm_scale()\n",
    "ppm_scale1 = uc1.ppm_scale()\n",
    "\n",
    "# plot the spectrum\n",
    "fig = plt.figure(figsize=(10, 10))\n",
    "#fig = plt.figure()\n",
    "ax = fig.add_subplot(111)\n",
    "ax.invert_xaxis()\n",
    "ax.invert_yaxis()\n",
    "cl = data.max()/15 * 0.25 * 1.4 ** np.arange(20)\n",
    "cl3 = np.concatenate((-cl[::-1], cl))\n",
    "cmap = cm.RdBu\n",
    "norm=cm.colors.PowerNorm(gamma=1. / 4.)\n",
    "CS=ax.contour(data, levels=cl, norm=norm, \n",
    "              cmap=cmap, extent=(x0, x1, y0, y1), linewidths=1)\n",
    "fig.colorbar(CS, ax=ax)\n",
    "\n",
    "# add 1D slices\n",
    "x = uc1.ppm_scale()\n",
    "\n",
    "\n",
    "# label the axis and save\n",
    "ax.set_xlabel(\"$^1H\\ ppm$\", size=20)\n",
    "#ax.set_xlim(9, -0.5)\n",
    "ax.set_ylabel(\"$^{13}C\\ ppm$\", size=20)\n",
    "#ax.set_ylim(220, 0)\n",
    "\n",
    "#fig.savefig(\"spectrum_2d.pdf\")\n",
    "\n"
   ]
  },
  {
   "cell_type": "code",
   "execution_count": null,
   "id": "2221f3df-69e3-4509-a3fd-97447052ab4b",
   "metadata": {},
   "outputs": [],
   "source": []
  }
 ],
 "metadata": {
  "kernelspec": {
   "display_name": "Python 3 (ipykernel)",
   "language": "python",
   "name": "python3"
  },
  "language_info": {
   "codemirror_mode": {
    "name": "ipython",
    "version": 3
   },
   "file_extension": ".py",
   "mimetype": "text/x-python",
   "name": "python",
   "nbconvert_exporter": "python",
   "pygments_lexer": "ipython3",
   "version": "3.10.7"
  }
 },
 "nbformat": 4,
 "nbformat_minor": 5
}
