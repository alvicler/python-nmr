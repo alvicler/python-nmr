{
 "cells": [
  {
   "cell_type": "code",
   "execution_count": 1,
   "id": "94684c59-8187-4714-871c-02cc9528027e",
   "metadata": {},
   "outputs": [
    {
     "name": "stdout",
     "output_type": "stream",
     "text": [
      "(512, 2048)\n"
     ]
    },
    {
     "ename": "KeyError",
     "evalue": "'FDDIMORDER'",
     "output_type": "error",
     "traceback": [
      "\u001b[0;31m---------------------------------------------------------------------------\u001b[0m",
      "\u001b[0;31mKeyError\u001b[0m                                  Traceback (most recent call last)",
      "Cell \u001b[0;32mIn [1], line 66\u001b[0m\n\u001b[1;32m     36\u001b[0m show(p)\n\u001b[1;32m     40\u001b[0m \u001b[38;5;66;03m# Set the spectral parameters\u001b[39;00m\n\u001b[1;32m     41\u001b[0m \u001b[38;5;66;03m#u = ng.bruker.guess_udic(dic, data)\u001b[39;00m\n\u001b[1;32m     42\u001b[0m \n\u001b[0;32m   (...)\u001b[0m\n\u001b[1;32m     64\u001b[0m \n\u001b[1;32m     65\u001b[0m \u001b[38;5;66;03m# Pass to figure class\u001b[39;00m\n\u001b[0;32m---> 66\u001b[0m fig2d \u001b[38;5;241m=\u001b[39m \u001b[43mdraw\u001b[49m\u001b[38;5;241;43m.\u001b[39;49m\u001b[43mfig2d\u001b[49m\u001b[43m(\u001b[49m\u001b[43mdic\u001b[49m\u001b[43m,\u001b[49m\u001b[43m \u001b[49m\u001b[43mdata\u001b[49m\u001b[38;5;241;43m*\u001b[39;49m\u001b[38;5;241;43m16\u001b[39;49m\u001b[43m)\u001b[49m\n\u001b[1;32m     67\u001b[0m \u001b[38;5;66;03m# Change contour_start\u001b[39;00m\n\u001b[1;32m     68\u001b[0m fig2d\u001b[38;5;241m.\u001b[39mcontour_start \u001b[38;5;241m=\u001b[39m \u001b[38;5;241m100\u001b[39m\u001b[38;5;241m*\u001b[39m\u001b[38;5;241m16\u001b[39m\u001b[38;5;241m*\u001b[39m\u001b[38;5;241m16\u001b[39m\n",
      "File \u001b[0;32m/Library/Frameworks/Python.framework/Versions/3.10/lib/python3.10/site-packages/drawnmr/draw.py:14\u001b[0m, in \u001b[0;36mfig2d.__init__\u001b[0;34m(self, ng_dic, ng_data)\u001b[0m\n\u001b[1;32m      9\u001b[0m \u001b[38;5;28mself\u001b[39m\u001b[38;5;241m.\u001b[39mdic \u001b[38;5;241m=\u001b[39m ng_dic\n\u001b[1;32m     11\u001b[0m \u001b[38;5;28;01mif\u001b[39;00m \u001b[38;5;28mself\u001b[39m\u001b[38;5;241m.\u001b[39mdic:\n\u001b[1;32m     12\u001b[0m     \u001b[38;5;66;03m# Get Universal dictionary\u001b[39;00m\n\u001b[1;32m     13\u001b[0m     \u001b[38;5;66;03m# for uniform listing of spectal parameter\u001b[39;00m\n\u001b[0;32m---> 14\u001b[0m     \u001b[38;5;28mself\u001b[39m\u001b[38;5;241m.\u001b[39mudic \u001b[38;5;241m=\u001b[39m \u001b[43mng\u001b[49m\u001b[38;5;241;43m.\u001b[39;49m\u001b[43mpipe\u001b[49m\u001b[38;5;241;43m.\u001b[39;49m\u001b[43mguess_udic\u001b[49m\u001b[43m(\u001b[49m\u001b[38;5;28;43mself\u001b[39;49m\u001b[38;5;241;43m.\u001b[39;49m\u001b[43mdic\u001b[49m\u001b[43m,\u001b[49m\u001b[43m \u001b[49m\u001b[43mng_data\u001b[49m\u001b[43m)\u001b[49m\n\u001b[1;32m     16\u001b[0m     \u001b[38;5;66;03m# reference data in more common NMR units using the unit_coversion object.\u001b[39;00m\n\u001b[1;32m     17\u001b[0m     \u001b[38;5;28mself\u001b[39m\u001b[38;5;241m.\u001b[39muc0 \u001b[38;5;241m=\u001b[39m ng\u001b[38;5;241m.\u001b[39mpipe\u001b[38;5;241m.\u001b[39mmake_uc(\u001b[38;5;28mself\u001b[39m\u001b[38;5;241m.\u001b[39mdic, \u001b[38;5;28mself\u001b[39m\u001b[38;5;241m.\u001b[39mdata, dim\u001b[38;5;241m=\u001b[39m\u001b[38;5;241m0\u001b[39m) \u001b[38;5;66;03m# m, rows, y-axis\u001b[39;00m\n",
      "File \u001b[0;32m/Library/Frameworks/Python.framework/Versions/3.10/lib/python3.10/site-packages/nmrglue/fileio/pipe.py:239\u001b[0m, in \u001b[0;36mguess_udic\u001b[0;34m(dic, data)\u001b[0m\n\u001b[1;32m    236\u001b[0m udic[i][\u001b[38;5;124m\"\u001b[39m\u001b[38;5;124msize\u001b[39m\u001b[38;5;124m\"\u001b[39m] \u001b[38;5;241m=\u001b[39m data\u001b[38;5;241m.\u001b[39mshape[i]     \u001b[38;5;66;03m# size from data shape\u001b[39;00m\n\u001b[1;32m    238\u001b[0m \u001b[38;5;66;03m# determine NMRPipe axis name\u001b[39;00m\n\u001b[0;32m--> 239\u001b[0m fn \u001b[38;5;241m=\u001b[39m \u001b[38;5;124m\"\u001b[39m\u001b[38;5;124mFDF\u001b[39m\u001b[38;5;124m\"\u001b[39m \u001b[38;5;241m+\u001b[39m \u001b[38;5;28mstr\u001b[39m(\u001b[38;5;28mint\u001b[39m(\u001b[43mdic\u001b[49m\u001b[43m[\u001b[49m\u001b[38;5;124;43m\"\u001b[39;49m\u001b[38;5;124;43mFDDIMORDER\u001b[39;49m\u001b[38;5;124;43m\"\u001b[39;49m\u001b[43m]\u001b[49m[data\u001b[38;5;241m.\u001b[39mndim \u001b[38;5;241m-\u001b[39m \u001b[38;5;241m1\u001b[39m \u001b[38;5;241m-\u001b[39m i]))\n\u001b[1;32m    241\u001b[0m \u001b[38;5;66;03m# directly corresponding\u001b[39;00m\n\u001b[1;32m    242\u001b[0m udic[i][\u001b[38;5;124m\"\u001b[39m\u001b[38;5;124msw\u001b[39m\u001b[38;5;124m\"\u001b[39m] \u001b[38;5;241m=\u001b[39m dic[fn \u001b[38;5;241m+\u001b[39m \u001b[38;5;124m\"\u001b[39m\u001b[38;5;124mSW\u001b[39m\u001b[38;5;124m\"\u001b[39m]\n",
      "\u001b[0;31mKeyError\u001b[0m: 'FDDIMORDER'"
     ]
    }
   ],
   "source": [
    "from drawnmr import draw\n",
    "import nmrglue as ng\n",
    "import bokeh.plotting as bplt\n",
    "from bokeh.models import Range1d\n",
    "import numpy as np\n",
    "import matplotlib.pyplot as plt\n",
    "\n",
    "\n",
    "\n",
    "\n",
    "## 2D File\n",
    "dic, data = ng.bruker.read_pdata('NA0048214682_3620_20221122_01/Bruker/3/pdata/1/') \n",
    "print(data.shape)\n",
    "udic = ng.bruker.guess_udic(dic, data)\n",
    "\n",
    "uc1 = ng.fileiobase.uc_from_udic(udic,1) ## Direct dimension\n",
    "uc0 = ng.fileiobase.uc_from_udic(udic,0) ## indirect dimension\n",
    "\n",
    "#x0, x1 = uc1.ppm_limits()\n",
    "#y0, y1 = uc0.ppm_limits()\n",
    "ppm_scale0 = uc0.ppm_scale()\n",
    "ppm_scale1 = uc1.ppm_scale()\n",
    "\n",
    "from bokeh.plotting import figure, show\n",
    "x0=data[0].min()\n",
    "x1=data[0].max()\n",
    "y0=data[1].min()\n",
    "y1=data[1].max()\n",
    "\n",
    "a = data\n",
    "p = figure(x_range=(x0,x1), y_range=(y0, y1))\n",
    "\n",
    "# must give a vector of image data for image parameter\n",
    "p.image(image=[a], x=x0, y=y0, dw=2, dh=2, palette=\"Spectral11\")\n",
    "\n",
    "show(p)\n",
    "\n",
    "\n",
    "\n",
    "# Set the spectral parameters\n",
    "#u = ng.bruker.guess_udic(dic, data)\n",
    "\n",
    "# Direct Dimsion                       #Indirect Dimension\n",
    "#u[1]['size']     = 2048             ;  u[0]['size']     = 512\n",
    "#u[1]['complex']  = True             ;  u[0]['complex']  = True \n",
    "#u[1]['encoding'] = 'direct'         ;  u[0]['encoding'] = 'states'\n",
    "#u[1]['sw']       = 3201.024         ;  u[0]['sw']       = 13659.526\n",
    "#u[1]['obs']      = 400.13           ;  u[0]['obs']      = 100.6127685\n",
    "#u[1]['car']      = 3.453 * 400.13   ;  u[0]['car']      = 70.907 * 100.6127685\n",
    "#u[1]['label']    = '1H'             ;  u[0]['label']    = '13C'            \n",
    "\n",
    "# create the converter object and initilize with Bruker data\n",
    "#C = ng.convert.converter()\n",
    "#C.from_bruker(dic, data, u)\n",
    "\n",
    "# create NMRPipe data and then write it out\n",
    "#ng.pipe.write(\"new_data.ft2\", *C.to_pipe(), overwrite=True)\n",
    "\n",
    "# Specify data\n",
    "#ng_ft2 = 'new_data.ft2'\n",
    "\n",
    "# read in data\n",
    "#ng_dic, ng_data = ng.pipe.read(ng_ft2)\n",
    "\n",
    "# Pass to figure class\n",
    "fig2d = draw.fig2d(dic, data*16)\n",
    "# Change contour_start\n",
    "fig2d.contour_start = 100*16*16\n",
    "\n",
    "\n",
    "from bokeh.models import LinearColorMapper, ColorBar, FixedTicker\n",
    "import bokeh.palettes as palettes\n",
    "\n",
    "colormapper = LinearColorMapper(\n",
    "    palette=palettes.viridis(20)[::-1], low=-1, high=1.0, low_color=\"white\"\n",
    ")\n",
    "color_bar = ColorBar(\n",
    "    color_mapper=colormapper,\n",
    "    location=(0, 0),\n",
    "#     ticker=FixedTicker(ticks=ticks)\n",
    ")\n",
    "\n",
    "\n",
    "\n",
    "\n",
    "# Get the bokeh figure\n",
    "#####fig= fig2d.get_fig()\n",
    "fig.add_layout(color_bar, 'right')\n",
    "# Alter the figure after creation\n",
    "#fig.xaxis.axis_label = \"Nonsense\"\n",
    "\n",
    "# Set limits for view\n",
    "fig.x_range = Range1d(7.5, -0.5)\n",
    "fig.y_range = Range1d(145, -2)\n",
    "\n",
    "# Set larger image size\n",
    "fig.plot_width = 800\n",
    "fig.plot_height = 400\n",
    "\n",
    "# Get output. Either to Jupyter notebook or html file \n",
    "if fig2d.isnotebook:\n",
    "    from bokeh.io import output_notebook\n",
    "    output_notebook()\n",
    "    bplt.show(fig, notebook_ha6ndle=True)\n",
    "#else:\n",
    "    # Save to html\n",
    "    filename = \"nmrglue_s4_2d_plotting.html\"\n",
    "    bplt.output_file(filename)\n",
    "    bplt.save(fig)\n",
    "    # And auto open\n",
    "    import webbrowser, os\n",
    "    webbrowser.open('file://' + os.path.realpath(filename))\n",
    "    \n",
    "#fig2d.change_contour_start(200e3)"
   ]
  },
  {
   "cell_type": "code",
   "execution_count": 4,
   "id": "convertible-taylor",
   "metadata": {},
   "outputs": [
    {
     "name": "stdout",
     "output_type": "stream",
     "text": [
      "(512, 2048)\n"
     ]
    }
   ],
   "source": [
    "print(data.shape)"
   ]
  },
  {
   "cell_type": "code",
   "execution_count": null,
   "id": "57fcda15-10c0-418c-b9d6-82353694c41f",
   "metadata": {},
   "outputs": [],
   "source": []
  }
 ],
 "metadata": {
  "kernelspec": {
   "display_name": "Python 3 (ipykernel)",
   "language": "python",
   "name": "python3"
  },
  "language_info": {
   "codemirror_mode": {
    "name": "ipython",
    "version": 3
   },
   "file_extension": ".py",
   "mimetype": "text/x-python",
   "name": "python",
   "nbconvert_exporter": "python",
   "pygments_lexer": "ipython3",
   "version": "3.10.7"
  }
 },
 "nbformat": 4,
 "nbformat_minor": 5
}
