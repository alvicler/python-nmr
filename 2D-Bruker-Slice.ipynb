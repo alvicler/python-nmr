{
 "cells": [
  {
   "cell_type": "markdown",
   "id": "potential-yahoo",
   "metadata": {},
   "source": [
    "# Plot 2D Spectra"
   ]
  },
  {
   "cell_type": "code",
   "execution_count": 3,
   "id": "infrared-pressure",
   "metadata": {},
   "outputs": [],
   "source": [
    "import matplotlib\n",
    "import numpy as np\n",
    "import matplotlib.cm as cm\n",
    "import matplotlib.pyplot as plt\n",
    "import nmrglue as ng \n",
    "\n",
    "%matplotlib qt5\n",
    "#plt.rcParams[\"figure.figsize\"]=10,10\n",
    "dic, data = ng.bruker.read_pdata('2dtest/5/pdata/1') \n",
    "\n",
    "udic = ng.bruker.guess_udic(dic, data)\n",
    "uc1 = ng.fileiobase.uc_from_udic(udic,1) ## Direct dimension\n",
    "uc0 = ng.fileiobase.uc_from_udic(udic,0) ## indirect dimension\n",
    "\n",
    "x0, x1 = uc1.ppm_limits()\n",
    "y0, y1 = uc0.ppm_limits()\n",
    "ppm_scale0 = uc0.ppm_scale()\n",
    "ppm_scale1 = uc1.ppm_scale()\n",
    "\n",
    "# plot the spectrum\n",
    "fig = plt.figure(figsize=(10, 10))\n",
    "#fig = plt.figure()\n",
    "ax = fig.add_subplot(111)\n",
    "ax.invert_xaxis()\n",
    "ax.invert_yaxis()\n",
    "cl = data.std()/15 * 2 * 1.4 ** np.arange(20)\n",
    "cl3 = np.concatenate((-cl[::-1], cl))\n",
    "ax.contour(data, cl3, cmap='ocean', extent=(x0, x1, y0, y1), linewidths=0.5)\n",
    "\n",
    "# add 1D slices\n",
    "x = uc1.ppm_scale()\n",
    "\n",
    "s1 = data[uc0(\"128.68ppm\"), :]\n",
    "s2 = data[uc0(\"129.69ppm\"), :]\n",
    "s3 = data[uc0(\"133.43ppm\"), :]\n",
    "s4 = data[uc0(\"112.20ppm\"), :]\n",
    "#ax.plot(x, -s1 / 1e3 + 38.43,  'b--',linewidth=1)\n",
    "#ax.plot(x, -s2 / 5e3 + 116.28, 'r--',linewidth=1)\n",
    "#ax.plot(x, -s3 / 5e3 + 136.62, 'r--',linewidth=1)\n",
    "#ax.plot(x, -s4 / 5e3 + 112.20, 'r--',linewidth=1)\n",
    "\n",
    "# label the axis and save\n",
    "ax.set_xlabel(\"$^1H\\ ppm$\", size=20)\n",
    "ax.set_xlim(9, -0.5)\n",
    "ax.set_ylabel(\"$^{13}C\\ ppm$\", size=20)\n",
    "ax.set_ylim(220, 0)\n",
    "\n",
    "fig.savefig(\"spectrum_2d.pdf\")\n",
    "\n"
   ]
  },
  {
   "cell_type": "code",
   "execution_count": null,
   "id": "included-electron",
   "metadata": {},
   "outputs": [],
   "source": []
  },
  {
   "cell_type": "code",
   "execution_count": null,
   "id": "spiritual-graham",
   "metadata": {},
   "outputs": [],
   "source": []
  }
 ],
 "metadata": {
  "kernelspec": {
   "display_name": "Python 3",
   "language": "python",
   "name": "python3"
  },
  "language_info": {
   "codemirror_mode": {
    "name": "ipython",
    "version": 3
   },
   "file_extension": ".py",
   "mimetype": "text/x-python",
   "name": "python",
   "nbconvert_exporter": "python",
   "pygments_lexer": "ipython3",
   "version": "3.8.5"
  }
 },
 "nbformat": 4,
 "nbformat_minor": 5
}
