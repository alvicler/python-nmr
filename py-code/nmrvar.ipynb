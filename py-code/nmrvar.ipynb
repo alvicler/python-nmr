{
 "cells": [
  {
   "cell_type": "markdown",
   "id": "quarterly-truth",
   "metadata": {},
   "source": [
    "# <span style=\"color:green\">Install module</span>\n",
    "\n",
    "## <span style=\"color:red\">pip install termcolor</span>\n",
    "\n",
    "## Manipulating arrays"
   ]
  },
  {
   "cell_type": "markdown",
   "id": "purple-container",
   "metadata": {},
   "source": [
    "# <span style=\"color:blue\"> Importing modules</span>"
   ]
  },
  {
   "cell_type": "code",
   "execution_count": 1,
   "id": "initial-composite",
   "metadata": {
    "slideshow": {
     "slide_type": "-"
    }
   },
   "outputs": [],
   "source": [
    "import numpy as np\n",
    "from termcolor import colored as cor"
   ]
  },
  {
   "cell_type": "markdown",
   "id": "capital-hobby",
   "metadata": {},
   "source": [
    "###### Let's create a array from 7 to 44 in steps of 3\n",
    "* <span style=\"color:green\">**command** </span>... np.array\n",
    "* <span style=\"color:blue\">**np** </span>comes from numpy works as nickname\n",
    "* <span style=\"color:blue\">**cor** </span>was nickname for colored inside of termcolor module, choose nickname as you like\n",
    "* **np.array** use array command definition from numpy module\n",
    "## <span style=\"color:red\">np.array(init, end, step)</span> "
   ]
  },
  {
   "cell_type": "code",
   "execution_count": 2,
   "id": "everyday-compound",
   "metadata": {},
   "outputs": [
    {
     "name": "stdout",
     "output_type": "stream",
     "text": [
      "\u001b[35mSet of numbers (array x) every 3 steps from 7 to 44  \n",
      "\u001b[0m [ 7 10 13 16 19 22 25 28 31 34 37 40 43]\n"
     ]
    }
   ],
   "source": [
    "x = np.arange(7,44,3)\n",
    "\n",
    "print(cor(\"Set of numbers (array x) every 3 steps from 7 to 44  \\n\", 'magenta'),x)"
   ]
  },
  {
   "cell_type": "markdown",
   "id": "chubby-stuff",
   "metadata": {},
   "source": [
    "# Element number (<span style=\"color:green\">Index</span>)\n",
    "\n",
    "## first element of array has index <span style=\"color:red\">0</span> not 1"
   ]
  },
  {
   "cell_type": "code",
   "execution_count": 3,
   "id": "numerous-block",
   "metadata": {},
   "outputs": [
    {
     "name": "stdout",
     "output_type": "stream",
     "text": [
      "\u001b[1m\u001b[32m7\u001b[0m  is the value of first array x element \n",
      "\u001b[1m\u001b[32m28\u001b[0m  is the value of the seventh element of array x \n"
     ]
    }
   ],
   "source": [
    "print(cor(x[0],'green',attrs=['bold']),\" is the value of first array x element \")\n",
    "\n",
    "print(cor(x[7],'green',attrs=['bold']),\" is the value of the seventh element of array x \")\n"
   ]
  },
  {
   "cell_type": "markdown",
   "id": "accessible-spare",
   "metadata": {},
   "source": [
    "## Let's recreate the array <span style=\"color:red\">x</span> from <span style=\"color:green\">0 to 64</span>"
   ]
  },
  {
   "cell_type": "code",
   "execution_count": 5,
   "id": "everyday-corps",
   "metadata": {},
   "outputs": [
    {
     "name": "stdout",
     "output_type": "stream",
     "text": [
      "\u001b[35mset of numbers (array) x from 0 to 64 \n",
      "\u001b[0m [   0    1    2 ... 1021 1022 1023]\n"
     ]
    }
   ],
   "source": [
    "x = np.arange(0,1024)\n",
    "\n",
    "print(cor(\"set of numbers (array) x from 0 to 64 \\n\", 'magenta'),x)"
   ]
  },
  {
   "cell_type": "markdown",
   "id": "furnished-stamp",
   "metadata": {},
   "source": [
    "## Let's get all values of <span style=\"color:red\">even index</span>"
   ]
  },
  {
   "cell_type": "code",
   "execution_count": 10,
   "id": "greek-metallic",
   "metadata": {},
   "outputs": [
    {
     "name": "stdout",
     "output_type": "stream",
     "text": [
      "\u001b[35mValues of elements with even index within array x \n",
      "\u001b[0m \u001b[1m\u001b[34m[   0    2    4    6    8   10   12   14   16   18   20   22   24   26\n",
      "   28   30   32   34   36   38   40   42   44   46   48   50   52   54\n",
      "   56   58   60   62   64   66   68   70   72   74   76   78   80   82\n",
      "   84   86   88   90   92   94   96   98  100  102  104  106  108  110\n",
      "  112  114  116  118  120  122  124  126  128  130  132  134  136  138\n",
      "  140  142  144  146  148  150  152  154  156  158  160  162  164  166\n",
      "  168  170  172  174  176  178  180  182  184  186  188  190  192  194\n",
      "  196  198  200  202  204  206  208  210  212  214  216  218  220  222\n",
      "  224  226  228  230  232  234  236  238  240  242  244  246  248  250\n",
      "  252  254  256  258  260  262  264  266  268  270  272  274  276  278\n",
      "  280  282  284  286  288  290  292  294  296  298  300  302  304  306\n",
      "  308  310  312  314  316  318  320  322  324  326  328  330  332  334\n",
      "  336  338  340  342  344  346  348  350  352  354  356  358  360  362\n",
      "  364  366  368  370  372  374  376  378  380  382  384  386  388  390\n",
      "  392  394  396  398  400  402  404  406  408  410  412  414  416  418\n",
      "  420  422  424  426  428  430  432  434  436  438  440  442  444  446\n",
      "  448  450  452  454  456  458  460  462  464  466  468  470  472  474\n",
      "  476  478  480  482  484  486  488  490  492  494  496  498  500  502\n",
      "  504  506  508  510  512  514  516  518  520  522  524  526  528  530\n",
      "  532  534  536  538  540  542  544  546  548  550  552  554  556  558\n",
      "  560  562  564  566  568  570  572  574  576  578  580  582  584  586\n",
      "  588  590  592  594  596  598  600  602  604  606  608  610  612  614\n",
      "  616  618  620  622  624  626  628  630  632  634  636  638  640  642\n",
      "  644  646  648  650  652  654  656  658  660  662  664  666  668  670\n",
      "  672  674  676  678  680  682  684  686  688  690  692  694  696  698\n",
      "  700  702  704  706  708  710  712  714  716  718  720  722  724  726\n",
      "  728  730  732  734  736  738  740  742  744  746  748  750  752  754\n",
      "  756  758  760  762  764  766  768  770  772  774  776  778  780  782\n",
      "  784  786  788  790  792  794  796  798  800  802  804  806  808  810\n",
      "  812  814  816  818  820  822  824  826  828  830  832  834  836  838\n",
      "  840  842  844  846  848  850  852  854  856  858  860  862  864  866\n",
      "  868  870  872  874  876  878  880  882  884  886  888  890  892  894\n",
      "  896  898  900  902  904  906  908  910  912  914  916  918  920  922\n",
      "  924  926  928  930  932  934  936  938  940  942  944  946  948  950\n",
      "  952  954  956  958  960  962  964  966  968  970  972  974  976  978\n",
      "  980  982  984  986  988  990  992  994  996  998 1000 1002 1004 1006\n",
      " 1008 1010 1012 1014 1016 1018 1020 1022]\u001b[0m\n"
     ]
    }
   ],
   "source": [
    "x_even=x[::2] ## PAR\n",
    "a=x_even\n",
    "print(cor(\"Values of elements with even index within array x \\n\",'magenta'),\n",
    "      cor(x_even,'blue',attrs=['bold']))"
   ]
  },
  {
   "cell_type": "markdown",
   "id": "behavioral-complex",
   "metadata": {},
   "source": [
    "## Let's get all values of <span style=\"color:red\">odd index</span>"
   ]
  },
  {
   "cell_type": "code",
   "execution_count": 11,
   "id": "cathedral-blowing",
   "metadata": {
    "scrolled": true
   },
   "outputs": [
    {
     "name": "stdout",
     "output_type": "stream",
     "text": [
      "\u001b[35mValues of elements with odd index within array x\n",
      "\u001b[0m \u001b[1m\u001b[31m[   1    3    5    7    9   11   13   15   17   19   21   23   25   27\n",
      "   29   31   33   35   37   39   41   43   45   47   49   51   53   55\n",
      "   57   59   61   63   65   67   69   71   73   75   77   79   81   83\n",
      "   85   87   89   91   93   95   97   99  101  103  105  107  109  111\n",
      "  113  115  117  119  121  123  125  127  129  131  133  135  137  139\n",
      "  141  143  145  147  149  151  153  155  157  159  161  163  165  167\n",
      "  169  171  173  175  177  179  181  183  185  187  189  191  193  195\n",
      "  197  199  201  203  205  207  209  211  213  215  217  219  221  223\n",
      "  225  227  229  231  233  235  237  239  241  243  245  247  249  251\n",
      "  253  255  257  259  261  263  265  267  269  271  273  275  277  279\n",
      "  281  283  285  287  289  291  293  295  297  299  301  303  305  307\n",
      "  309  311  313  315  317  319  321  323  325  327  329  331  333  335\n",
      "  337  339  341  343  345  347  349  351  353  355  357  359  361  363\n",
      "  365  367  369  371  373  375  377  379  381  383  385  387  389  391\n",
      "  393  395  397  399  401  403  405  407  409  411  413  415  417  419\n",
      "  421  423  425  427  429  431  433  435  437  439  441  443  445  447\n",
      "  449  451  453  455  457  459  461  463  465  467  469  471  473  475\n",
      "  477  479  481  483  485  487  489  491  493  495  497  499  501  503\n",
      "  505  507  509  511  513  515  517  519  521  523  525  527  529  531\n",
      "  533  535  537  539  541  543  545  547  549  551  553  555  557  559\n",
      "  561  563  565  567  569  571  573  575  577  579  581  583  585  587\n",
      "  589  591  593  595  597  599  601  603  605  607  609  611  613  615\n",
      "  617  619  621  623  625  627  629  631  633  635  637  639  641  643\n",
      "  645  647  649  651  653  655  657  659  661  663  665  667  669  671\n",
      "  673  675  677  679  681  683  685  687  689  691  693  695  697  699\n",
      "  701  703  705  707  709  711  713  715  717  719  721  723  725  727\n",
      "  729  731  733  735  737  739  741  743  745  747  749  751  753  755\n",
      "  757  759  761  763  765  767  769  771  773  775  777  779  781  783\n",
      "  785  787  789  791  793  795  797  799  801  803  805  807  809  811\n",
      "  813  815  817  819  821  823  825  827  829  831  833  835  837  839\n",
      "  841  843  845  847  849  851  853  855  857  859  861  863  865  867\n",
      "  869  871  873  875  877  879  881  883  885  887  889  891  893  895\n",
      "  897  899  901  903  905  907  909  911  913  915  917  919  921  923\n",
      "  925  927  929  931  933  935  937  939  941  943  945  947  949  951\n",
      "  953  955  957  959  961  963  965  967  969  971  973  975  977  979\n",
      "  981  983  985  987  989  991  993  995  997  999 1001 1003 1005 1007\n",
      " 1009 1011 1013 1015 1017 1019 1021 1023]\u001b[0m\n"
     ]
    }
   ],
   "source": [
    "x_odd=x[1::2] ## IMPAR\n",
    "b=x_odd\n",
    "\n",
    "print(cor(\"Values of elements with odd index within array x\\n\",'magenta'),cor(x_odd,'red',attrs=['bold']))"
   ]
  },
  {
   "cell_type": "markdown",
   "id": "sharp-hacker",
   "metadata": {},
   "source": [
    "## Please don't make confusion <span style=\"color:blue\">values</span> are not  the <span style=\"color:red\">indexes</span>"
   ]
  },
  {
   "cell_type": "code",
   "execution_count": 12,
   "id": "operating-suggestion",
   "metadata": {},
   "outputs": [
    {
     "name": "stdout",
     "output_type": "stream",
     "text": [
      "[   0    2    4    6    8   10   12   14   16   18   20   22   24   26\n",
      "   28   30   32   34   36   38   40   42   44   46   48   50   52   54\n",
      "   56   58   60   62   64   66   68   70   72   74   76   78   80   82\n",
      "   84   86   88   90   92   94   96   98  100  102  104  106  108  110\n",
      "  112  114  116  118  120  122  124  126  128  130  132  134  136  138\n",
      "  140  142  144  146  148  150  152  154  156  158  160  162  164  166\n",
      "  168  170  172  174  176  178  180  182  184  186  188  190  192  194\n",
      "  196  198  200  202  204  206  208  210  212  214  216  218  220  222\n",
      "  224  226  228  230  232  234  236  238  240  242  244  246  248  250\n",
      "  252  254  256  258  260  262  264  266  268  270  272  274  276  278\n",
      "  280  282  284  286  288  290  292  294  296  298  300  302  304  306\n",
      "  308  310  312  314  316  318  320  322  324  326  328  330  332  334\n",
      "  336  338  340  342  344  346  348  350  352  354  356  358  360  362\n",
      "  364  366  368  370  372  374  376  378  380  382  384  386  388  390\n",
      "  392  394  396  398  400  402  404  406  408  410  412  414  416  418\n",
      "  420  422  424  426  428  430  432  434  436  438  440  442  444  446\n",
      "  448  450  452  454  456  458  460  462  464  466  468  470  472  474\n",
      "  476  478  480  482  484  486  488  490  492  494  496  498  500  502\n",
      "  504  506  508  510  512  514  516  518  520  522  524  526  528  530\n",
      "  532  534  536  538  540  542  544  546  548  550  552  554  556  558\n",
      "  560  562  564  566  568  570  572  574  576  578  580  582  584  586\n",
      "  588  590  592  594  596  598  600  602  604  606  608  610  612  614\n",
      "  616  618  620  622  624  626  628  630  632  634  636  638  640  642\n",
      "  644  646  648  650  652  654  656  658  660  662  664  666  668  670\n",
      "  672  674  676  678  680  682  684  686  688  690  692  694  696  698\n",
      "  700  702  704  706  708  710  712  714  716  718  720  722  724  726\n",
      "  728  730  732  734  736  738  740  742  744  746  748  750  752  754\n",
      "  756  758  760  762  764  766  768  770  772  774  776  778  780  782\n",
      "  784  786  788  790  792  794  796  798  800  802  804  806  808  810\n",
      "  812  814  816  818  820  822  824  826  828  830  832  834  836  838\n",
      "  840  842  844  846  848  850  852  854  856  858  860  862  864  866\n",
      "  868  870  872  874  876  878  880  882  884  886  888  890  892  894\n",
      "  896  898  900  902  904  906  908  910  912  914  916  918  920  922\n",
      "  924  926  928  930  932  934  936  938  940  942  944  946  948  950\n",
      "  952  954  956  958  960  962  964  966  968  970  972  974  976  978\n",
      "  980  982  984  986  988  990  992  994  996  998 1000 1002 1004 1006\n",
      " 1008 1010 1012 1014 1016 1018 1020 1022] [   1    3    5    7    9   11   13   15   17   19   21   23   25   27\n",
      "   29   31   33   35   37   39   41   43   45   47   49   51   53   55\n",
      "   57   59   61   63   65   67   69   71   73   75   77   79   81   83\n",
      "   85   87   89   91   93   95   97   99  101  103  105  107  109  111\n",
      "  113  115  117  119  121  123  125  127  129  131  133  135  137  139\n",
      "  141  143  145  147  149  151  153  155  157  159  161  163  165  167\n",
      "  169  171  173  175  177  179  181  183  185  187  189  191  193  195\n",
      "  197  199  201  203  205  207  209  211  213  215  217  219  221  223\n",
      "  225  227  229  231  233  235  237  239  241  243  245  247  249  251\n",
      "  253  255  257  259  261  263  265  267  269  271  273  275  277  279\n",
      "  281  283  285  287  289  291  293  295  297  299  301  303  305  307\n",
      "  309  311  313  315  317  319  321  323  325  327  329  331  333  335\n",
      "  337  339  341  343  345  347  349  351  353  355  357  359  361  363\n",
      "  365  367  369  371  373  375  377  379  381  383  385  387  389  391\n",
      "  393  395  397  399  401  403  405  407  409  411  413  415  417  419\n",
      "  421  423  425  427  429  431  433  435  437  439  441  443  445  447\n",
      "  449  451  453  455  457  459  461  463  465  467  469  471  473  475\n",
      "  477  479  481  483  485  487  489  491  493  495  497  499  501  503\n",
      "  505  507  509  511  513  515  517  519  521  523  525  527  529  531\n",
      "  533  535  537  539  541  543  545  547  549  551  553  555  557  559\n",
      "  561  563  565  567  569  571  573  575  577  579  581  583  585  587\n",
      "  589  591  593  595  597  599  601  603  605  607  609  611  613  615\n",
      "  617  619  621  623  625  627  629  631  633  635  637  639  641  643\n",
      "  645  647  649  651  653  655  657  659  661  663  665  667  669  671\n",
      "  673  675  677  679  681  683  685  687  689  691  693  695  697  699\n",
      "  701  703  705  707  709  711  713  715  717  719  721  723  725  727\n",
      "  729  731  733  735  737  739  741  743  745  747  749  751  753  755\n",
      "  757  759  761  763  765  767  769  771  773  775  777  779  781  783\n",
      "  785  787  789  791  793  795  797  799  801  803  805  807  809  811\n",
      "  813  815  817  819  821  823  825  827  829  831  833  835  837  839\n",
      "  841  843  845  847  849  851  853  855  857  859  861  863  865  867\n",
      "  869  871  873  875  877  879  881  883  885  887  889  891  893  895\n",
      "  897  899  901  903  905  907  909  911  913  915  917  919  921  923\n",
      "  925  927  929  931  933  935  937  939  941  943  945  947  949  951\n",
      "  953  955  957  959  961  963  965  967  969  971  973  975  977  979\n",
      "  981  983  985  987  989  991  993  995  997  999 1001 1003 1005 1007\n",
      " 1009 1011 1013 1015 1017 1019 1021 1023]\n"
     ]
    }
   ],
   "source": [
    "print(a,b)"
   ]
  },
  {
   "cell_type": "markdown",
   "id": "incoming-palmer",
   "metadata": {},
   "source": [
    "## Values of array x with <span style=\"color:red\"> even indexes</span> in <span style=\"color:green\">reverse order</span>"
   ]
  },
  {
   "cell_type": "code",
   "execution_count": 22,
   "id": "virgin-brunswick",
   "metadata": {},
   "outputs": [
    {
     "name": "stdout",
     "output_type": "stream",
     "text": [
      "\u001b[35mReverses the order of values with even indexes within array x \n",
      "\u001b[0m \u001b[1m\u001b[32m[62 60 58 56 54 52 50 48 46 44 42 40 38 36 34 32 30 28 26 24 22 20 18 16\n",
      " 14 12 10  8  6  4  2  0]\u001b[0m\n"
     ]
    }
   ],
   "source": [
    "x = np.arange(0,64)\n",
    "x_even_reverse=x_even[::-1] ## reverse\n",
    "\n",
    "print(cor(\"Reverses the order of values with even indexes within array x \\n\",'magenta'),\n",
    "      cor(x_even_reverse,'green',attrs=['bold']))"
   ]
  },
  {
   "cell_type": "markdown",
   "id": "numerous-niger",
   "metadata": {},
   "source": [
    "## Get <span style=\"color:red\">size </span>of array x with  <span style=\"color:green\">len </span>command"
   ]
  },
  {
   "cell_type": "code",
   "execution_count": 23,
   "id": "suburban-referral",
   "metadata": {},
   "outputs": [
    {
     "name": "stdout",
     "output_type": "stream",
     "text": [
      "Size of array x  \u001b[1m\u001b[31m64\u001b[0m\n"
     ]
    }
   ],
   "source": [
    "tamanho=len(x)\n",
    "print(\"Size of array x \", cor(tamanho,'red',attrs=['bold']))"
   ]
  },
  {
   "cell_type": "markdown",
   "id": "stylish-emerald",
   "metadata": {},
   "source": [
    "## Get the <span style=\"color:red\"> first half</span> of <span style=\"color:green\">even indexes</span> array x\n",
    "\n",
    "## <span style=\"color:green\">Indexes</span>  like to be <span style=\"color:red\"> integer numbers </span> "
   ]
  },
  {
   "cell_type": "code",
   "execution_count": 10,
   "id": "bottom-algorithm",
   "metadata": {},
   "outputs": [
    {
     "name": "stdout",
     "output_type": "stream",
     "text": [
      "\u001b[35mOnly half of the values with even indexes within array x \n",
      "\u001b[0m \u001b[1m\u001b[34m[ 0  2  4  6  8 10 12 14 16 18 20 22 24 26 28 30]\u001b[0m\n"
     ]
    }
   ],
   "source": [
    "metade=int(len(x)/2)\n",
    "x_even=x[:metade:2] ## 1/2 * PAR\n",
    "\n",
    "print(cor(\"Only half of the values with even indexes within array x \\n\",'magenta'),\n",
    "      cor(x_even,'blue',attrs=['bold']))"
   ]
  },
  {
   "cell_type": "markdown",
   "id": "synthetic-scotland",
   "metadata": {},
   "source": [
    "## Get the <span style=\"color:red\"> Second half </span> of <span style=\"color:green\">even indexes</span> array x"
   ]
  },
  {
   "cell_type": "code",
   "execution_count": 11,
   "id": "tested-cutting",
   "metadata": {},
   "outputs": [
    {
     "name": "stdout",
     "output_type": "stream",
     "text": [
      "\u001b[35mOnly second half of the values with even indexes within array x \n",
      "\u001b[0m \u001b[1m\u001b[34m[32 34 36 38 40 42 44 46 48 50 52 54 56 58 60 62]\u001b[0m\n"
     ]
    }
   ],
   "source": [
    "x_even=x[metade::2] ## 2nd 1/2*PAR\n",
    "\n",
    "print(cor(\"Only second half of the values with even indexes within array x \\n\",'magenta'),\n",
    "      cor(x_even,'blue',attrs=['bold']))"
   ]
  },
  {
   "cell_type": "markdown",
   "id": "ordered-respondent",
   "metadata": {},
   "source": [
    "## Get the <span style=\"color:red\"> Second half </span> of <span style=\"color:green\">even indexes</span> array x times 10"
   ]
  },
  {
   "cell_type": "code",
   "execution_count": 12,
   "id": "vanilla-invention",
   "metadata": {},
   "outputs": [
    {
     "name": "stdout",
     "output_type": "stream",
     "text": [
      "\u001b[35mecond half of the values with even indexes within array x times 10 \n",
      "\u001b[0m \u001b[1m\u001b[34m[320 340 360 380 400 420 440 460 480 500 520 540 560 580 600 620]\u001b[0m\n"
     ]
    }
   ],
   "source": [
    "x_even=x[metade::2]*10 ## 2nd 1/2*PAR\n",
    "\n",
    "print(cor(\"econd half of the values with even indexes within array x times 10 \\n\",'magenta'),\n",
    "      cor(x_even,'blue',attrs=['bold']))"
   ]
  },
  {
   "cell_type": "markdown",
   "id": "focused-sleep",
   "metadata": {},
   "source": [
    "## Get the <span style=\"color:red\"> Second half </span> of <span style=\"color:green\">even indexes</span> array x times -10 + 1"
   ]
  },
  {
   "cell_type": "code",
   "execution_count": 13,
   "id": "generous-theater",
   "metadata": {},
   "outputs": [
    {
     "name": "stdout",
     "output_type": "stream",
     "text": [
      "\u001b[35mecond half of the values with even indexes within array x times -10 add 1 \n",
      "\u001b[0m \u001b[1m\u001b[34m[-319 -339 -359 -379 -399 -419 -439 -459 -479 -499 -519 -539 -559 -579\n",
      " -599 -619]\u001b[0m\n"
     ]
    }
   ],
   "source": [
    "x_even=x[metade::2]*-10+1 ## 2nd 1/2*PAR\n",
    "\n",
    "print(cor(\"econd half of the values with even indexes within array x times -10 add 1 \\n\",'magenta'),\n",
    "      cor(x_even,'blue',attrs=['bold']))"
   ]
  },
  {
   "cell_type": "markdown",
   "id": "engaged-colorado",
   "metadata": {},
   "source": [
    "## Adding new elements  <span style=\"color:red\"> [10, 11, 12]  </span> to array  <span style=\"color:green\">x_even</span> "
   ]
  },
  {
   "cell_type": "code",
   "execution_count": 14,
   "id": "patent-membrane",
   "metadata": {},
   "outputs": [
    {
     "name": "stdout",
     "output_type": "stream",
     "text": [
      "\u001b[35mAdd elements to x_even array \n",
      "\u001b[0m \u001b[1m\u001b[34m[-319 -339 -359 -379 -399 -419 -439 -459 -479 -499 -519 -539 -559 -579\n",
      " -599 -619   10   11   12]\u001b[0m\n"
     ]
    }
   ],
   "source": [
    "x_even = np.append (x_even, [10, 11, 12])\n",
    "\n",
    "print(cor(\"Add elements to x_even array \\n\",'magenta'),\n",
    "      cor(x_even,'blue',attrs=['bold']))"
   ]
  },
  {
   "cell_type": "markdown",
   "id": "ahead-samoa",
   "metadata": {},
   "source": [
    "## Get   <span style=\"color:red\"> last 3  </span> elements of array  <span style=\"color:green\">x_even</span> "
   ]
  },
  {
   "cell_type": "code",
   "execution_count": 15,
   "id": "gentle-battle",
   "metadata": {},
   "outputs": [
    {
     "name": "stdout",
     "output_type": "stream",
     "text": [
      "\u001b[35mlast 3 elements elements in array x_even \n",
      "\u001b[0m \u001b[1m\u001b[34m[10 11 12]\u001b[0m\n"
     ]
    }
   ],
   "source": [
    "size=len(x_even)\n",
    "last_3=x_even[size-3:size:1]\n",
    "\n",
    "print(cor(\"last 3 elements elements in array x_even \\n\",'magenta'),\n",
    "      cor(last_3,'blue',attrs=['bold']))"
   ]
  },
  {
   "cell_type": "markdown",
   "id": "indirect-germany",
   "metadata": {},
   "source": [
    "## Get   <span style=\"color:red\"> and revert, last 3  </span> elements of array  <span style=\"color:green\">x_even</span> "
   ]
  },
  {
   "cell_type": "code",
   "execution_count": 16,
   "id": "municipal-madison",
   "metadata": {},
   "outputs": [
    {
     "name": "stdout",
     "output_type": "stream",
     "text": [
      "\u001b[35mLast 3 elements in array x_even in reverse order ### CAUTION ### \n",
      "\u001b[0m \u001b[1m\u001b[31m[12 11 10]\u001b[0m\n"
     ]
    }
   ],
   "source": [
    "last_3=x_even[size:size-4:-1]\n",
    "\n",
    "print(cor(\"Last 3 elements in array x_even in reverse order ### CAUTION ### \\n\",'magenta'),\n",
    "      cor(last_3,'red',attrs=['bold']))"
   ]
  },
  {
   "cell_type": "code",
   "execution_count": null,
   "id": "geological-chorus",
   "metadata": {},
   "outputs": [],
   "source": []
  }
 ],
 "metadata": {
  "kernelspec": {
   "display_name": "Python 3",
   "language": "python",
   "name": "python3"
  },
  "language_info": {
   "codemirror_mode": {
    "name": "ipython",
    "version": 3
   },
   "file_extension": ".py",
   "mimetype": "text/x-python",
   "name": "python",
   "nbconvert_exporter": "python",
   "pygments_lexer": "ipython3",
   "version": "3.8.5"
  }
 },
 "nbformat": 4,
 "nbformat_minor": 5
}
